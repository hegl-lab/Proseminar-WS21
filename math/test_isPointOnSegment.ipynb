{
 "cells": [
  {
   "cell_type": "code",
   "execution_count": 24,
   "metadata": {},
   "outputs": [
    {
     "name": "stdout",
     "output_type": "stream",
     "text": [
      "Drawn shape: Arc(0.272,-0.315, 0.427, 46,-78,False)\n"
     ]
    },
    {
     "data": {
      "image/svg+xml": "<?xml version=\"1.0\" encoding=\"UTF-8\"?>\n<svg xmlns=\"http://www.w3.org/2000/svg\" xmlns:xlink=\"http://www.w3.org/1999/xlink\"\n     width=\"400\" height=\"400.0\" viewBox=\"-1.05 -1.05 2.1 2.1\">\n<defs>\n</defs>\n<circle cx=\"0.27209\" cy=\"0.3154\" r=\"0.4273\" fill=\"none\" stroke-width=\"0.02\" stroke=\"green\" />\n<path d=\"M0.5689175216971296,0.008026103315294408 A0.4273,0.4273,0,1,0,0.3609306654864286,0.7333624697935551\" fill=\"black\" />\n<circle cx=\"0.5689175216971296\" cy=\"0.008026103315294353\" r=\"0.02\" fill=\"skyblue\" />\n<circle cx=\"0.3609306654864286\" cy=\"0.7333624697935551\" r=\"0.02\" fill=\"skyblue\" />\n<circle cx=\"0.69939\" cy=\"0.3154\" r=\"0.02\" fill=\"red\" />\n<circle cx=\"0.6977639944946028\" cy=\"0.2781583511239257\" r=\"0.02\" fill=\"red\" />\n<circle cx=\"0.6928983528621164\" cy=\"0.24120013368292068\" r=\"0.02\" fill=\"red\" />\n<circle cx=\"0.6848301055733189\" cy=\"0.2048066220276929\" r=\"0.02\" fill=\"red\" />\n<circle cx=\"0.6736206568618186\" cy=\"0.16925479275694177\" r=\"0.02\" fill=\"red\" />\n<circle cx=\"0.6593553174007605\" cy=\"0.13481521675819913\" r=\"0.02\" fill=\"red\" />\n<circle cx=\"0.6421426550370907\" cy=\"0.10175000000000003\" r=\"0.02\" fill=\"red\" />\n<circle cx=\"0.6221136685246862\" cy=\"0.07031078874719804\" r=\"0.02\" fill=\"red\" />\n<circle cx=\"0.5994207905447393\" cy=\"0.04073685438094177\" r=\"0.02\" fill=\"red\" />\n<circle cx=\"0.5742367276010119\" cy=\"0.013253272398988214\" r=\"0.02\" fill=\"red\" />\n<circle cx=\"0.5467531456190583\" cy=\"-0.011930790544739278\" r=\"0.02\" fill=\"skyblue\" />\n<circle cx=\"0.517179211252802\" cy=\"-0.03462366852468618\" r=\"0.02\" fill=\"skyblue\" />\n<circle cx=\"0.48574000000000006\" cy=\"-0.0546526550370906\" r=\"0.02\" fill=\"skyblue\" />\n<circle cx=\"0.4526747832418009\" cy=\"-0.07186531740076052\" r=\"0.02\" fill=\"skyblue\" />\n<circle cx=\"0.4182352072430583\" cy=\"-0.08613065686181864\" r=\"0.02\" fill=\"skyblue\" />\n<circle cx=\"0.3826833779723071\" cy=\"-0.0973401055733189\" r=\"0.02\" fill=\"skyblue\" />\n<circle cx=\"0.34628986631707936\" cy=\"-0.10540835286211647\" r=\"0.02\" fill=\"skyblue\" />\n<circle cx=\"0.30933164887607434\" cy=\"-0.11027399449460284\" r=\"0.02\" fill=\"skyblue\" />\n<circle cx=\"0.27209\" cy=\"-0.1119\" r=\"0.02\" fill=\"skyblue\" />\n<circle cx=\"0.23484835112392563\" cy=\"-0.11027399449460284\" r=\"0.02\" fill=\"skyblue\" />\n<circle cx=\"0.1978901336829207\" cy=\"-0.10540835286211647\" r=\"0.02\" fill=\"skyblue\" />\n<circle cx=\"0.16149662202769283\" cy=\"-0.0973401055733189\" r=\"0.02\" fill=\"skyblue\" />\n<circle cx=\"0.12594479275694176\" cy=\"-0.08613065686181864\" r=\"0.02\" fill=\"skyblue\" />\n<circle cx=\"0.09150521675819917\" cy=\"-0.07186531740076058\" r=\"0.02\" fill=\"skyblue\" />\n<circle cx=\"0.058440000000000075\" cy=\"-0.05465265503709066\" r=\"0.02\" fill=\"skyblue\" />\n<circle cx=\"0.027000788747197968\" cy=\"-0.034623668524686124\" r=\"0.02\" fill=\"skyblue\" />\n<circle cx=\"-0.0025731456190583035\" cy=\"-0.011930790544739278\" r=\"0.02\" fill=\"skyblue\" />\n<circle cx=\"-0.030056727601011746\" cy=\"0.013253272398988214\" r=\"0.02\" fill=\"skyblue\" />\n<circle cx=\"-0.05524079054473929\" cy=\"0.04073685438094171\" r=\"0.02\" fill=\"skyblue\" />\n<circle cx=\"-0.07793366852468625\" cy=\"0.07031078874719807\" r=\"0.02\" fill=\"skyblue\" />\n<circle cx=\"-0.09796265503709067\" cy=\"0.10175000000000003\" r=\"0.02\" fill=\"skyblue\" />\n<circle cx=\"-0.11517531740076054\" cy=\"0.1348152167581991\" r=\"0.02\" fill=\"skyblue\" />\n<circle cx=\"-0.12944065686181866\" cy=\"0.1692547927569417\" r=\"0.02\" fill=\"skyblue\" />\n<circle cx=\"-0.14065010557331886\" cy=\"0.2048066220276928\" r=\"0.02\" fill=\"skyblue\" />\n<circle cx=\"-0.1487183528621165\" cy=\"0.2412001336829207\" r=\"0.02\" fill=\"skyblue\" />\n<circle cx=\"-0.15358399449460286\" cy=\"0.2781583511239257\" r=\"0.02\" fill=\"skyblue\" />\n<circle cx=\"-0.15521000000000001\" cy=\"0.31539999999999996\" r=\"0.02\" fill=\"skyblue\" />\n<circle cx=\"-0.15358399449460286\" cy=\"0.35264164887607424\" r=\"0.02\" fill=\"skyblue\" />\n<circle cx=\"-0.1487183528621165\" cy=\"0.38959986631707944\" r=\"0.02\" fill=\"skyblue\" />\n<circle cx=\"-0.14065010557331892\" cy=\"0.4259933779723072\" r=\"0.02\" fill=\"skyblue\" />\n<circle cx=\"-0.12944065686181866\" cy=\"0.46154520724305825\" r=\"0.02\" fill=\"skyblue\" />\n<circle cx=\"-0.11517531740076059\" cy=\"0.49598478324180084\" r=\"0.02\" fill=\"skyblue\" />\n<circle cx=\"-0.09796265503709062\" cy=\"0.52905\" r=\"0.02\" fill=\"skyblue\" />\n<circle cx=\"-0.0779336685246862\" cy=\"0.560489211252802\" r=\"0.02\" fill=\"skyblue\" />\n<circle cx=\"-0.05524079054473929\" cy=\"0.5900631456190583\" r=\"0.02\" fill=\"skyblue\" />\n<circle cx=\"-0.030056727601011857\" cy=\"0.6175467276010118\" r=\"0.02\" fill=\"skyblue\" />\n<circle cx=\"-0.0025731456190583035\" cy=\"0.6427307905447392\" r=\"0.02\" fill=\"skyblue\" />\n<circle cx=\"0.027000788747197885\" cy=\"0.6654236685246862\" r=\"0.02\" fill=\"skyblue\" />\n<circle cx=\"0.0584399999999998\" cy=\"0.6854526550370905\" r=\"0.02\" fill=\"skyblue\" />\n<circle cx=\"0.09150521675819925\" cy=\"0.7026653174007607\" r=\"0.02\" fill=\"skyblue\" />\n<circle cx=\"0.12594479275694181\" cy=\"0.7169306568618187\" r=\"0.02\" fill=\"skyblue\" />\n<circle cx=\"0.16149662202769294\" cy=\"0.728140105573319\" r=\"0.02\" fill=\"skyblue\" />\n<circle cx=\"0.19789013368292066\" cy=\"0.7362083528621165\" r=\"0.02\" fill=\"skyblue\" />\n<circle cx=\"0.23484835112392563\" cy=\"0.7410739944946029\" r=\"0.02\" fill=\"skyblue\" />\n<circle cx=\"0.27208999999999994\" cy=\"0.7427\" r=\"0.02\" fill=\"skyblue\" />\n<circle cx=\"0.30933164887607423\" cy=\"0.7410739944946029\" r=\"0.02\" fill=\"skyblue\" />\n<circle cx=\"0.34628986631707914\" cy=\"0.7362083528621166\" r=\"0.02\" fill=\"skyblue\" />\n<circle cx=\"0.3826833779723069\" cy=\"0.728140105573319\" r=\"0.02\" fill=\"red\" />\n<circle cx=\"0.41823520724305835\" cy=\"0.7169306568618187\" r=\"0.02\" fill=\"red\" />\n<circle cx=\"0.45267478324180094\" cy=\"0.7026653174007604\" r=\"0.02\" fill=\"red\" />\n<circle cx=\"0.48574000000000006\" cy=\"0.6854526550370906\" r=\"0.02\" fill=\"red\" />\n<circle cx=\"0.517179211252802\" cy=\"0.6654236685246862\" r=\"0.02\" fill=\"red\" />\n<circle cx=\"0.5467531456190582\" cy=\"0.6427307905447394\" r=\"0.02\" fill=\"red\" />\n<circle cx=\"0.5742367276010116\" cy=\"0.6175467276010118\" r=\"0.02\" fill=\"red\" />\n<circle cx=\"0.5994207905447393\" cy=\"0.5900631456190584\" r=\"0.02\" fill=\"red\" />\n<circle cx=\"0.6221136685246862\" cy=\"0.5604892112528022\" r=\"0.02\" fill=\"red\" />\n<circle cx=\"0.6421426550370906\" cy=\"0.5290500000000002\" r=\"0.02\" fill=\"red\" />\n<circle cx=\"0.6593553174007606\" cy=\"0.4959847832418008\" r=\"0.02\" fill=\"red\" />\n<circle cx=\"0.6736206568618186\" cy=\"0.46154520724305825\" r=\"0.02\" fill=\"red\" />\n<circle cx=\"0.6848301055733189\" cy=\"0.4259933779723071\" r=\"0.02\" fill=\"red\" />\n<circle cx=\"0.6928983528621164\" cy=\"0.3895998663170794\" r=\"0.02\" fill=\"red\" />\n<circle cx=\"0.6977639944946028\" cy=\"0.3526416488760744\" r=\"0.02\" fill=\"red\" />\n</svg>",
      "text/plain": [
       "<drawSvg.drawing.Drawing at 0x20c57e46670>"
      ]
     },
     "execution_count": 24,
     "metadata": {},
     "output_type": "execute_result"
    }
   ],
   "source": [
    "import drawSvg as draw\n",
    "from hyperbolic import euclid, util\n",
    "import math\n",
    "\n",
    "def isPointOnSegment(arc,x,y):\n",
    "    startDeg, endDeg = arc.startDeg % 360, arc.endDeg % 360\n",
    "    if arc.cw:\n",
    "        startDeg, endDeg = endDeg, startDeg\n",
    "    else:\n",
    "        startDeg, endDeg = startDeg, endDeg\n",
    "    px = x - arc.cx\n",
    "    py = y - arc.cy\n",
    "    pDeg = math.degrees(math.atan2(py, px)) % 360\n",
    "    if util.nearZero(pDeg - startDeg) or util.nearZero(pDeg - endDeg):\n",
    "        return True\n",
    "    if startDeg<endDeg: \n",
    "        return startDeg<=pDeg<=endDeg\n",
    "    else:\n",
    "        return (endDeg<=pDeg) ^ (pDeg<=startDeg)\n",
    "\n",
    "start = 46\n",
    "end = -78\n",
    "cw = False\n",
    "\n",
    "x, y, r = 0.27209, -0.3154, 0.4273\n",
    "circle = euclid.shapes.Circle(x, y, r)\n",
    "arc = euclid.shapes.Arc(x, y, r, start, end, cw=cw)\n",
    "print('Drawn shape:', arc)\n",
    "\n",
    "points = [\n",
    "    arc.startPoint(),\n",
    "    arc.endPoint(),\n",
    "] + [\n",
    "    (x + r*math.cos(math.radians(deg)),\n",
    "     y + r*math.sin(math.radians(deg)))\n",
    "    for deg in range(0, 360, 5)\n",
    "]\n",
    "\n",
    "d = draw.Drawing(2.1, 2.1, origin='center')\n",
    "\n",
    "d.draw(circle, fill='none', stroke_width=0.02, stroke='green')\n",
    "d.draw(arc, fill='black')\n",
    "for x, y in points:\n",
    "    # Blue only if on segment\n",
    "    fill = 'skyblue' if isPointOnSegment(arc, x, y) else 'red'\n",
    "    p = euclid.shapes.Circle(x, y, 0.02)\n",
    "    d.draw(p, fill=fill)\n",
    "\n",
    "d.setRenderSize(w=400)\n",
    "d"
   ]
  }
 ],
 "metadata": {
  "interpreter": {
   "hash": "b3ba2566441a7c06988d0923437866b63cedc61552a5af99d1f4fb67d367b25f"
  },
  "kernelspec": {
   "display_name": "Python 3.9.7 64-bit ('base': conda)",
   "language": "python",
   "name": "python3"
  },
  "language_info": {
   "codemirror_mode": {
    "name": "ipython",
    "version": 3
   },
   "file_extension": ".py",
   "mimetype": "text/x-python",
   "name": "python",
   "nbconvert_exporter": "python",
   "pygments_lexer": "ipython3",
   "version": "3.9.7"
  },
  "orig_nbformat": 4
 },
 "nbformat": 4,
 "nbformat_minor": 2
}
