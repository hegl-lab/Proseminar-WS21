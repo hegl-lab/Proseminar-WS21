{
 "cells": [
  {
   "cell_type": "markdown",
   "id": "2a565975",
   "metadata": {},
   "source": [
    "not my own code but something to work with...\n",
    "\n",
    "found on https://pypi.org/project/drawSvg/\n"
   ]
  },
  {
   "cell_type": "code",
   "execution_count": 29,
   "id": "2446bddb",
   "metadata": {},
   "outputs": [
    {
     "data": {
      "application/vnd.jupyter.widget-view+json": {
       "model_id": "ecdc9301dc8e418db0847142576393ca",
       "version_major": 2,
       "version_minor": 0
      },
      "text/plain": [
       "DrawingWidget()"
      ]
     },
     "metadata": {},
     "output_type": "display_data"
    }
   ],
   "source": [
    "import drawSvg as draw\n",
    "from drawSvg.widgets import DrawingWidget\n",
    "import hyperbolic.poincare.shapes as hyper  # pip3 install hyperbolic\n",
    "\n",
    "# Create drawing\n",
    "d = draw.Drawing(2, 2, origin='center')\n",
    "d.setRenderSize(500)\n",
    "d.append(draw.Circle(0, 0, 1, fill='orange'))\n",
    "group = draw.Group()\n",
    "d.append(group)\n",
    "\n",
    "# Update the drawing based on user input\n",
    "click_list = []\n",
    "def redraw(points):\n",
    "    group.children.clear()\n",
    "    for x1, y1 in points:\n",
    "        for x2, y2 in points:\n",
    "            if (x1, y1) == (x2, y2): continue\n",
    "            p1 = hyper.Point.fromEuclid(x1, y1)\n",
    "            p2 = hyper.Point.fromEuclid(x2, y2)\n",
    "            if p1.distanceTo(p2) <= 1e9:\n",
    "                line = hyper.Line.fromPoints(*p1, *p2, segment=True)\n",
    "                group.draw(line, hwidth=0.1, fill='white')\n",
    "    for x, y in points:\n",
    "        p = hyper.Point.fromEuclid(x, y)\n",
    "        group.draw(hyper.Circle.fromCenterRadius(p, 0.05),\n",
    "                   fill='green')\n",
    "redraw(click_list)\n",
    "\n",
    "# Create interactive widget and register mouse events\n",
    "widget = DrawingWidget(d)\n",
    "@widget.mousedown\n",
    "def mousedown(widget, x, y, info):\n",
    "        if (x**2 + y**2) ** 0.5 + 1e-5 < 1:\n",
    "            if len(click_list)<3:\n",
    "                click_list.append((x, y))\n",
    "        redraw(click_list)\n",
    "        widget.refresh()\n",
    "        \n",
    "        \n",
    "@widget.mousemove\n",
    "def mousemove(widget, x, y, info):\n",
    "    if (x**2 + y**2) ** 0.5 + 1e-5 < 1:\n",
    "        if len(click_list)<3:\n",
    "            redraw(click_list + [(x, y)])\n",
    "    widget.refresh()\n",
    "widget"
   ]
  },
  {
   "cell_type": "code",
   "execution_count": 26,
   "id": "062c2856",
   "metadata": {},
   "outputs": [
    {
     "name": "stdout",
     "output_type": "stream",
     "text": [
      "<hyperbolic.poincare.Line.Line object at 0x000002A8D5A8CEB0>\n"
     ]
    }
   ],
   "source": [
    "p1 = hyper.Point.fromEuclid(0.5,0.25)\n",
    "p2 = hyper.Point.fromEuclid(0.5,-0.25)\n",
    "geod = hyper.Line.fromPoints(*p1,*p2, segment=True)\n",
    "print(geod)\n",
    "print (\"Hello world\")\n"
   ]
  },
  {
   "cell_type": "code",
   "execution_count": null,
   "id": "0640d818",
   "metadata": {},
   "outputs": [],
   "source": []
  }
 ],
 "metadata": {
  "kernelspec": {
   "display_name": "Python 3",
   "language": "python",
   "name": "python3"
  },
  "language_info": {
   "codemirror_mode": {
    "name": "ipython",
    "version": 3
   },
   "file_extension": ".py",
   "mimetype": "text/x-python",
   "name": "python",
   "nbconvert_exporter": "python",
   "pygments_lexer": "ipython3",
   "version": "3.8.3"
  }
 },
 "nbformat": 4,
 "nbformat_minor": 5
}
